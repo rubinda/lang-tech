{
 "cells": [
  {
   "cell_type": "code",
   "execution_count": null,
   "metadata": {
    "pycharm": {}
   },
   "outputs": [],
   "source": [
    "# Example for removing punctuation from sentences\n",
    "import string\n",
    "table = str.maketrans('', '')\n",
    "sentence = \"Pozdravljeni, sem dip. inz. rač. in inf. David Rubin in rešujem (pre−)krasno »vajo« …\"\n",
    "sentence = sentence.translate(str.maketrans(\"\", \"\" , string.punctuation + '»«−…'))\n",
    "print(sentence)"
   ]
  },
  {
   "cell_type": "code",
   "execution_count": null,
   "metadata": {
    "pycharm": {}
   },
   "outputs": [],
   "source": [
    "# Example usage\n",
    "import kneser_ney\n",
    "from importlib import reload\n",
    "reload(kneser_ney)\n",
    "\n",
    "sentence = 'Univerza v Mariboru'\n",
    "lm = kneser_ney.LanguageModel()  # n is the size of ngrams\n",
    "# lm.train()  # In case there is no .lm file present\n",
    "# lm.save_to_file('foo.lm')  # Dump model to file\n",
    "lm.read_from_file('foo.lm') # Load model from file\n",
    "score = lm.kn_evaluate_sentence(sentence)\n",
    "perplex = lm.sentence_perplexity(sentence)\n",
    "file_perplex = lm.file_perplexity('korpus/kas-4000.text.txt')\n",
    "print('P({}) = {}'.format(sentence, score))\n",
    "print('PP({}) = {}'.format(sentence, perplex))\n",
    "print('File {}'.format(file_perplex))"
   ]
  },
  {
   "cell_type": "code",
   "execution_count": 17,
   "metadata": {
    "pycharm": {}
   },
   "outputs": [
    {
     "name": "stdout",
     "output_type": "stream",
     "text": [
      "Number of unique trigrams starting with (\"Moje\" \"ime\"): 2\n"
     ]
    }
   ],
   "source": [
    "# Searching for counts in dicts\n",
    "from collections import Counter, defaultdict\n",
    "trigram_counts = defaultdict(tuple, {('<s>', 'Moje', 'ime'): 2, ('Moje', 'ime', 'je'): 1, ('Moje', 'ime', 'ni'): 3})\n",
    "print('Number of unique trigrams starting with (\"Moje\" \"ime\"): ', end='')\n",
    "print(sum([('Moje', 'ime') == x[:2] for x in trigram_counts.keys() ]))"
   ]
  }
 ],
 "metadata": {
  "kernelspec": {
   "display_name": "Python 3",
   "language": "python",
   "name": "python3"
  },
  "language_info": {
   "codemirror_mode": {
    "name": "ipython",
    "version": 3
   },
   "file_extension": ".py",
   "mimetype": "text/x-python",
   "name": "python",
   "nbconvert_exporter": "python",
   "pygments_lexer": "ipython3",
   "version": "3.7.3"
  }
 },
 "nbformat": 4,
 "nbformat_minor": 2
}
