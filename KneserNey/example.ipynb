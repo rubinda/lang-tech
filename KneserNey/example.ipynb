{
 "cells": [
  {
   "cell_type": "code",
   "execution_count": 20,
   "metadata": {},
   "outputs": [
    {
     "name": "stdout",
     "output_type": "stream",
     "text": [
      "Pozdravljeni sem dip inz rač in inf David Rubin in rešujem prekrasno vajo \n"
     ]
    }
   ],
   "source": [
    "# Example for removing punctuation from sentences\n",
    "import string\n",
    "table = str.maketrans('', '')\n",
    "sentence = \"Pozdravljeni, sem dip. inz. rač. in inf. David Rubin in rešujem (pre−)krasno »vajo« …\"\n",
    "sentence = sentence.translate(str.maketrans(\"\", \"\" , string.punctuation + '»«−…'))\n",
    "print(sentence)"
   ]
  },
  {
   "cell_type": "code",
   "execution_count": 19,
   "metadata": {},
   "outputs": [
    {
     "name": "stdout",
     "output_type": "stream",
     "text": [
      "Loading model from file ... 1.77s\n",
      "More diplomas from Maribor\n"
     ]
    }
   ],
   "source": [
    "# Example usage\n",
    "import kneser_ney\n",
    "\n",
    "lm = kneser_ney.LanguageModel() # n is the size of ngrams\n",
    "# lt.train() # In case there is no .lm file present\n",
    "# lt.save_to_file('foo.lm') # Dump model to file\n",
    "lm.read_from_file('foo.lm') # Load model from file\n",
    "score1 = lm.evaluate_sentence('Univerza v Mariboru')\n",
    "score2 = lm.evaluate_sentence('Univerza v Ljubljani')\n",
    "print(\"More diplomas from Maribor\" if score1 > score2 else \"More diplomas from Ljubljana\" )"
   ]
  }
 ],
 "metadata": {
  "kernelspec": {
   "display_name": "Python 3",
   "language": "python",
   "name": "python3"
  },
  "language_info": {
   "codemirror_mode": {
    "name": "ipython",
    "version": 3
   },
   "file_extension": ".py",
   "mimetype": "text/x-python",
   "name": "python",
   "nbconvert_exporter": "python",
   "pygments_lexer": "ipython3",
   "version": "3.7.1"
  }
 },
 "nbformat": 4,
 "nbformat_minor": 2
}
