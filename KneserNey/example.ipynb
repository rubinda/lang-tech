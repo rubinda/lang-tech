{
  "cells": [
    {
      "cell_type": "code",
      "execution_count": 20,
      "metadata": {
        "pycharm": {}
      },
      "outputs": [
        {
          "name": "stdout",
          "output_type": "stream",
          "text": [
            "Pozdravljeni sem dip inz rač in inf David Rubin in rešujem prekrasno vajo \n"
          ]
        }
      ],
      "source": [
        "# Example for removing punctuation from sentences\n",
        "import string\n",
        "table \u003d str.maketrans(\u0027\u0027, \u0027\u0027)\n",
        "sentence \u003d \"Pozdravljeni, sem dip. inz. rač. in inf. David Rubin in rešujem (pre−)krasno »vajo« …\"\n",
        "sentence \u003d sentence.translate(str.maketrans(\"\", \"\" , string.punctuation + \u0027»«−…\u0027))\n",
        "print(sentence)"
      ]
    },
    {
      "cell_type": "code",
      "execution_count": 1,
      "metadata": {
        "pycharm": {}
      },
      "outputs": [
        {
          "name": "stdout",
          "output_type": "stream",
          "text": [
            "Learning from .txt files ... 11.67s\n",
            "Dumping model into files ... 6.42s\n",
            "More diplomas from Maribor\n"
          ]
        }
      ],
      "source": "# Example usage\nimport kneser_ney\n\nlm \u003d kneser_ney.LanguageModel() # n is the size of ngrams\nlm.train() # In case there is no .lm file present\nlm.save_to_file(\u0027foo.lm\u0027) # Dump model to file\n#lm.read_from_file(\u0027foo.lm\u0027) # Load model from file\nscore1 \u003d lm.kn_evaluate_sentence(\u0027Univerza v Mariboru\u0027)\nprint(score1)"
    },
    {
      "cell_type": "code",
      "execution_count": 20,
      "metadata": {
        "pycharm": {}
      },
      "outputs": [
        {
          "name": "stdout",
          "output_type": "stream",
          "text": [
            "2\n"
          ]
        }
      ],
      "source": [
        "# Searching for counts in dicts\n",
        "from collections import Counter, defaultdict\n",
        "trigram_counts \u003d defaultdict(tuple, {(\u0027\u003cs\u003e\u0027, \u0027Moje\u0027, \u0027ime\u0027): 2, (\u0027Moje\u0027, \u0027ime\u0027, \u0027je\u0027): 1, (\u0027Moje\u0027, \u0027ime\u0027, \u0027ni\u0027): 3})\n",
        "print(sum([(\u0027Moje\u0027, \u0027ime\u0027) \u003d\u003d x[:2] for x in trigram_counts.keys() ]))"
      ]
    }
  ],
  "metadata": {
    "kernelspec": {
      "display_name": "Python 3",
      "language": "python",
      "name": "python3"
    },
    "language_info": {
      "codemirror_mode": {
        "name": "ipython",
        "version": 3
      },
      "file_extension": ".py",
      "mimetype": "text/x-python",
      "name": "python",
      "nbconvert_exporter": "python",
      "pygments_lexer": "ipython3",
      "version": "3.7.1"
    }
  },
  "nbformat": 4,
  "nbformat_minor": 2
}