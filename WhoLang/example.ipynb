{
 "cells": [
  {
   "cell_type": "code",
   "execution_count": 10,
   "metadata": {},
   "outputs": [
    {
     "name": "stdout",
     "output_type": "stream",
     "text": [
      "\n",
      "Input: The weather today is delightful.\n",
      "Guessed language: English\n",
      "\n",
      "Distances (out of place):\n",
      "\tEnglish 5706\n",
      "\tDeutsch 7968\n",
      "\tSlovensko 8476\n",
      "\n",
      "Input: Vreme danes je prekrasno.\n",
      "Guessed language: Slovensko\n",
      "\n",
      "Distances (out of place):\n",
      "\tSlovensko 5330\n",
      "\tDeutsch 6220\n",
      "\tEnglish 6446\n",
      "\n",
      "Input: Das Wetter heute is wunderbar.\n",
      "Guessed language: Deutsch\n",
      "\n",
      "Distances (out of place):\n",
      "\tDeutsch 5597\n",
      "\tEnglish 6810\n",
      "\tSlovensko 7777\n"
     ]
    }
   ],
   "source": [
    "import who_lang\n",
    "lt = who_lang.LanguageIdentifier(n=3)\n",
    "lt.identify('The weather today is delightful.')\n",
    "lt.identify('Vreme danes je prekrasno.')\n",
    "lt.identify('Das Wetter heute is wunderbar.')"
   ]
  }
 ],
 "metadata": {
  "kernelspec": {
   "display_name": "Python 3",
   "language": "python",
   "name": "python3"
  },
  "language_info": {
   "codemirror_mode": {
    "name": "ipython",
    "version": 3
   },
   "file_extension": ".py",
   "mimetype": "text/x-python",
   "name": "python",
   "nbconvert_exporter": "python",
   "pygments_lexer": "ipython3",
   "version": "3.7.1"
  }
 },
 "nbformat": 4,
 "nbformat_minor": 2
}
